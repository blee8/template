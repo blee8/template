{
 "cells": [
  {
   "cell_type": "markdown",
   "metadata": {
    "collapsed": true,
    "pycharm": {
     "name": "#%% md\n"
    }
   },
   "source": [
    "##### 01/13/21\n",
    "#### Procedure Template"
   ]
  },
  {
   "cell_type": "code",
   "execution_count": 1,
   "outputs": [],
   "source": [
    "from preamble import *\n",
    "%matplotlib inline\n"
   ],
   "metadata": {
    "collapsed": false,
    "pycharm": {
     "name": "#%%\n"
    }
   }
  },
  {
   "cell_type": "code",
   "execution_count": 2,
   "outputs": [
    {
     "name": "stdout",
     "output_type": "stream",
     "text": [
      "Python 버전: 3.8.5 (default, Sep  3 2020, 21:29:08) [MSC v.1916 64 bit (AMD64)]\n",
      "pandas 버전: 1.1.5\n",
      "matplotlib 버전: 3.3.2\n",
      "NumPy 버전: 1.16.6\n",
      "SciPy 버전: 1.5.0\n",
      "IPython 버전: 7.18.1\n",
      "scikit-learn 버전: 0.22\n"
     ]
    }
   ],
   "source": [
    "import sys\n",
    "print(\"Python 버전:\", sys.version)\n",
    "\n",
    "import pandas as pd\n",
    "print(\"pandas 버전:\", pd.__version__)\n",
    "\n",
    "import matplotlib\n",
    "print(\"matplotlib 버전:\", matplotlib.__version__)\n",
    "\n",
    "import numpy as np\n",
    "print(\"NumPy 버전:\", np.__version__)\n",
    "\n",
    "import scipy as sp\n",
    "print(\"SciPy 버전:\", sp.__version__)\n",
    "\n",
    "import IPython\n",
    "print(\"IPython 버전:\", IPython.__version__)\n",
    "\n",
    "import sklearn\n",
    "print(\"scikit-learn 버전:\", sklearn.__version__)"
   ],
   "metadata": {
    "collapsed": false,
    "pycharm": {
     "name": "#%%\n"
    }
   }
  },
  {
   "cell_type": "markdown",
   "source": [
    "## Get the data"
   ],
   "metadata": {
    "collapsed": false
   }
  },
  {
   "cell_type": "code",
   "execution_count": 3,
   "outputs": [
    {
     "data": {
      "text/plain": "   phishaft  phitop  sigvtip  length  area  qmeasure  qpredict\n0      33.0    38.0      255    24.5  0.13      2615      2494\n1      34.0    37.5      206    19.8  0.22      3674      3638\n2      33.0    38.0      223    21.5  0.13      2164      2389\n3      33.0    37.5      210    20.2  0.15      3042      2881\n4      33.0    37.0      206    19.9  0.18      2856      2831",
      "text/html": "<div>\n<style scoped>\n    .dataframe tbody tr th:only-of-type {\n        vertical-align: middle;\n    }\n\n    .dataframe tbody tr th {\n        vertical-align: top;\n    }\n\n    .dataframe thead th {\n        text-align: right;\n    }\n</style>\n<table border=\"1\" class=\"dataframe\">\n  <thead>\n    <tr style=\"text-align: right;\">\n      <th></th>\n      <th>phishaft</th>\n      <th>phitop</th>\n      <th>sigvtip</th>\n      <th>length</th>\n      <th>area</th>\n      <th>qmeasure</th>\n      <th>qpredict</th>\n    </tr>\n  </thead>\n  <tbody>\n    <tr>\n      <th>0</th>\n      <td>33.0</td>\n      <td>38.0</td>\n      <td>255</td>\n      <td>24.5</td>\n      <td>0.13</td>\n      <td>2615</td>\n      <td>2494</td>\n    </tr>\n    <tr>\n      <th>1</th>\n      <td>34.0</td>\n      <td>37.5</td>\n      <td>206</td>\n      <td>19.8</td>\n      <td>0.22</td>\n      <td>3674</td>\n      <td>3638</td>\n    </tr>\n    <tr>\n      <th>2</th>\n      <td>33.0</td>\n      <td>38.0</td>\n      <td>223</td>\n      <td>21.5</td>\n      <td>0.13</td>\n      <td>2164</td>\n      <td>2389</td>\n    </tr>\n    <tr>\n      <th>3</th>\n      <td>33.0</td>\n      <td>37.5</td>\n      <td>210</td>\n      <td>20.2</td>\n      <td>0.15</td>\n      <td>3042</td>\n      <td>2881</td>\n    </tr>\n    <tr>\n      <th>4</th>\n      <td>33.0</td>\n      <td>37.0</td>\n      <td>206</td>\n      <td>19.9</td>\n      <td>0.18</td>\n      <td>2856</td>\n      <td>2831</td>\n    </tr>\n  </tbody>\n</table>\n</div>"
     },
     "metadata": {},
     "output_type": "display_data"
    }
   ],
   "source": [
    "import os\n",
    "# 이 파일은 열 이름을 나타내는 헤더가 없으므로 header=None으로 지정하고\n",
    "# \"names\" 매개변수로 열 이름을 제공합니다\n",
    "data = pd.read_csv(\n",
    "    os.path.join(mglearn.datasets.DATA_PATH, \"pile.csv\"), header=None, index_col=False,\n",
    "    names=['phishaft', 'phitop', 'sigvtip', 'length', 'area', 'qmeasure','qpredict',\n",
    "         'source', 'testnum', 'site'  ], encoding='cp949')\n",
    "\n",
    "# 예제를 위해 몇개의 열만 선택합니다\n",
    "data = data[['phishaft', 'phitop', 'sigvtip', 'length', 'area', 'qmeasure','qpredict']]\n",
    "# IPython.display 함수는 주피터 노트북을 위해 포맷팅된 출력을 만듭니다\n",
    "display(data.head())\n"
   ],
   "metadata": {
    "collapsed": false,
    "pycharm": {
     "name": "#%%\n"
    }
   }
  },
  {
   "cell_type": "code",
   "execution_count": 10,
   "outputs": [
    {
     "data": {
      "text/plain": "    coh    phi   gam  delta  ...  leng    qu    mat         loc\n0  33.0  28.85  9.82  12.49  ...  19.5  1040  Steel  Haraz-Iran\n1  33.0  29.89  9.73  12.41  ...  23.5  1400  Steel  Haraz-Iran\n2  33.0  28.81  9.82  12.49  ...  19.4   990  Steel  Haraz-Iran\n3   0.0  28.00  9.57  12.27  ...  19.5   960  Steel  Haraz-Iran\n4   0.0  28.00  9.69  12.22  ...  23.5  1330  Steel  Haraz-Iran\n\n[5 rows x 10 columns]",
      "text/html": "<div>\n<style scoped>\n    .dataframe tbody tr th:only-of-type {\n        vertical-align: middle;\n    }\n\n    .dataframe tbody tr th {\n        vertical-align: top;\n    }\n\n    .dataframe thead th {\n        text-align: right;\n    }\n</style>\n<table border=\"1\" class=\"dataframe\">\n  <thead>\n    <tr style=\"text-align: right;\">\n      <th></th>\n      <th>coh</th>\n      <th>phi</th>\n      <th>gam</th>\n      <th>delta</th>\n      <th>...</th>\n      <th>leng</th>\n      <th>qu</th>\n      <th>mat</th>\n      <th>loc</th>\n    </tr>\n  </thead>\n  <tbody>\n    <tr>\n      <th>0</th>\n      <td>33.0</td>\n      <td>28.85</td>\n      <td>9.82</td>\n      <td>12.49</td>\n      <td>...</td>\n      <td>19.5</td>\n      <td>1040</td>\n      <td>Steel</td>\n      <td>Haraz-Iran</td>\n    </tr>\n    <tr>\n      <th>1</th>\n      <td>33.0</td>\n      <td>29.89</td>\n      <td>9.73</td>\n      <td>12.41</td>\n      <td>...</td>\n      <td>23.5</td>\n      <td>1400</td>\n      <td>Steel</td>\n      <td>Haraz-Iran</td>\n    </tr>\n    <tr>\n      <th>2</th>\n      <td>33.0</td>\n      <td>28.81</td>\n      <td>9.82</td>\n      <td>12.49</td>\n      <td>...</td>\n      <td>19.4</td>\n      <td>990</td>\n      <td>Steel</td>\n      <td>Haraz-Iran</td>\n    </tr>\n    <tr>\n      <th>3</th>\n      <td>0.0</td>\n      <td>28.00</td>\n      <td>9.57</td>\n      <td>12.27</td>\n      <td>...</td>\n      <td>19.5</td>\n      <td>960</td>\n      <td>Steel</td>\n      <td>Haraz-Iran</td>\n    </tr>\n    <tr>\n      <th>4</th>\n      <td>0.0</td>\n      <td>28.00</td>\n      <td>9.69</td>\n      <td>12.22</td>\n      <td>...</td>\n      <td>23.5</td>\n      <td>1330</td>\n      <td>Steel</td>\n      <td>Haraz-Iran</td>\n    </tr>\n  </tbody>\n</table>\n<p>5 rows × 10 columns</p>\n</div>"
     },
     "metadata": {},
     "output_type": "display_data"
    }
   ],
   "source": [
    "data2 = pd.read_csv(os.path.join(mglearn.datasets.DATA_PATH, \"Milad_csv.csv\"))\n",
    "display(data2.head())\n"
   ],
   "metadata": {
    "collapsed": false,
    "pycharm": {
     "name": "#%%\n"
    }
   }
  }
 ],
 "metadata": {
  "kernelspec": {
   "display_name": "Python 3",
   "language": "python",
   "name": "python3"
  },
  "language_info": {
   "codemirror_mode": {
    "name": "ipython",
    "version": 2
   },
   "file_extension": ".py",
   "mimetype": "text/x-python",
   "name": "python",
   "nbconvert_exporter": "python",
   "pygments_lexer": "ipython2",
   "version": "2.7.6"
  }
 },
 "nbformat": 4,
 "nbformat_minor": 0
}