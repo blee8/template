{
 "cells": [
  {
   "cell_type": "markdown",
   "metadata": {
    "collapsed": true,
    "pycharm": {
     "name": "#%% md\n"
    }
   },
   "source": [
    "Albon, C. (2018). Machine Learning with Python Cookbook, O' Reilly Media, Inc.\n",
    "### Handling Numerical Data\n",
    "*   Rescaling a Feature\n",
    "> scikit-learn’s MinMaxScaler : a numerical feature to be between two values\n",
    "\n",
    "*   Standardizing a Feature\n",
    "> scikit-learn’s StandardScaler : a mean of 0 and a standard deviation of 1\n",
    "\n",
    "* Normalizing Observations\n",
    "> create normalizer = Normalizer(norm=\"l2\") : rescale the feature values of observations to have unit norm (a total\n",
    "length of 1)\n",
    "\n",
    "* Generating Polynomial and Interaction Features\n",
    "> create polynominal and interaction features\n",
    "* Transforming Features\n",
    "> make a custom transformation to one or more features\n",
    "* Detecting Outliers\n",
    "> identify extreme observations\n",
    "* Handling Outliers\n",
    "* Discretizating Features\n",
    "> a numerical feature and want to break it up into discrete bins\n",
    "* Grouping Observations Using Clustering\n",
    "* Deleting Observations with Missing Values\n",
    "* Imputing Missing Values"
   ]
  },
  {
   "cell_type": "markdown",
   "source": [
    "### Dimensionality Reduction\n",
    "* feature extraction\n",
    "* Feature Selection : selecting high-quality, informative features and\n",
    "dropping less useful features ; filter, wrapper, and embedded\n",
    "\n",
    "• [Recursive feature elimination with cross-validation](http://bit.ly/2Ftuffz)"
   ],
   "metadata": {
    "collapsed": false,
    "pycharm": {
     "name": "#%% md\n"
    }
   }
  }
 ],
 "metadata": {
  "kernelspec": {
   "display_name": "Python 3",
   "language": "python",
   "name": "python3"
  },
  "language_info": {
   "codemirror_mode": {
    "name": "ipython",
    "version": 2
   },
   "file_extension": ".py",
   "mimetype": "text/x-python",
   "name": "python",
   "nbconvert_exporter": "python",
   "pygments_lexer": "ipython2",
   "version": "2.7.6"
  }
 },
 "nbformat": 4,
 "nbformat_minor": 0
}